{
 "cells": [
  {
   "cell_type": "code",
   "execution_count": 1,
   "id": "ddd29463",
   "metadata": {},
   "outputs": [],
   "source": [
    "import numpy as np\n",
    "import matplotlib.pylab as plt"
   ]
  },
  {
   "cell_type": "markdown",
   "id": "f71613af",
   "metadata": {},
   "source": [
    "# 3. 신경망"
   ]
  },
  {
   "cell_type": "markdown",
   "id": "5ec52d75",
   "metadata": {},
   "source": [
    "## 3.1 퍼셉트론에서 신경망으로"
   ]
  },
  {
   "cell_type": "markdown",
   "id": "4146bf19",
   "metadata": {},
   "source": [
    "### 3.1.3 활성화 함수의 등장"
   ]
  },
  {
   "cell_type": "markdown",
   "id": "71305d08",
   "metadata": {},
   "source": [
    "<code>활성화 함수(activation function)</code>: 입력 신호의 총합이 활성화를 일으키는지 정하는 역할"
   ]
  },
  {
   "cell_type": "markdown",
   "id": "b75836bc",
   "metadata": {},
   "source": [
    "## 3.2 활성화 함수"
   ]
  },
  {
   "cell_type": "markdown",
   "id": "5b349004",
   "metadata": {},
   "source": [
    "퍼셉트론에서는 활성화 함수로 계단 함수(step function)을 활용  \n",
    "신경망에서는 활성화 함수로 시그모이드 함수, 렐루 함수 등을 활용"
   ]
  },
  {
   "cell_type": "markdown",
   "id": "4bbe5502",
   "metadata": {},
   "source": [
    "### 3.2.1 시그모이드 함수"
   ]
  },
  {
   "cell_type": "markdown",
   "id": "fa71bc68",
   "metadata": {},
   "source": [
    "<code>시그모이드 함수(sigmoid function)</code>"
   ]
  },
  {
   "cell_type": "markdown",
   "id": "56cef1e8",
   "metadata": {},
   "source": [
    "$$ h(x) = \\frac{1}{1+e^{-x}} $$"
   ]
  },
  {
   "cell_type": "markdown",
   "id": "7c59e85a",
   "metadata": {},
   "source": [
    "$e$는 자연상수로 $2.7182...$의 값을 갖는 실수"
   ]
  },
  {
   "cell_type": "markdown",
   "id": "b3150727",
   "metadata": {},
   "source": [
    "### 3.2.4 시그모이드 함수 구현하기"
   ]
  },
  {
   "cell_type": "code",
   "execution_count": 2,
   "id": "0784cda7",
   "metadata": {},
   "outputs": [],
   "source": [
    "def sigmoid(x):\n",
    "    return 1 / (1 + np.exp(-x))"
   ]
  },
  {
   "cell_type": "markdown",
   "id": "b8fd918f",
   "metadata": {},
   "source": [
    "### 3.2.6 비선형 함수"
   ]
  },
  {
   "cell_type": "markdown",
   "id": "9faae795",
   "metadata": {},
   "source": [
    "- 선형 함수: 무언가 입력했을 때 출력이 입력의 상수배만큼 변하는 함수, $f(x) = ax + b$, $a$와 $b$는 상수  \n",
    "- 비선형 함수: 선형이 아닌 함수, 직선 1개로는 그릴 수 없는 함수"
   ]
  },
  {
   "cell_type": "markdown",
   "id": "fdaf0236",
   "metadata": {},
   "source": [
    "신경망에서는 활성화 함수로 비선형 함수를 사용해야 함  \n",
    "선형 함수를 이용하면 신경망의 층을 깊게 하는 의미가 없어지기 때문"
   ]
  },
  {
   "cell_type": "markdown",
   "id": "f51a5f44",
   "metadata": {},
   "source": [
    "선형 함수인 $h(x) = cx$를 활성화 함수로 사용한 3층 네트워크를 식으로 나타내보면  \n",
    "$y(x) = h(h(h(x)))$가 되고, 이 계산은 $y(x) = c*c*c*x$처럼 세 번의 곱셈을 수행하지만  \n",
    "실은 $y(x) = ax$와 똑같은 식임, $a = c^3$이라고 하면 끝임\n",
    "즉, 은닉층이 없는 네트워크로 표현 가능"
   ]
  },
  {
   "cell_type": "markdown",
   "id": "c5e15724",
   "metadata": {},
   "source": [
    "### 3.2.7 ReLU 함수"
   ]
  },
  {
   "cell_type": "markdown",
   "id": "fac034ff",
   "metadata": {},
   "source": [
    "<code>ReLU 함수(Rectified Linear Unit function)</code>"
   ]
  },
  {
   "cell_type": "markdown",
   "id": "547bc49e",
   "metadata": {},
   "source": [
    "$$ h(x) = \\begin{cases} x, & (x>0) \\\\ 0, & (x\\le0) \\end{cases} $$"
   ]
  },
  {
   "cell_type": "code",
   "execution_count": 3,
   "id": "3b6b7ddc",
   "metadata": {},
   "outputs": [],
   "source": [
    "def relu(x):\n",
    "    return np.maximum(0, x)"
   ]
  },
  {
   "cell_type": "markdown",
   "id": "48f3a9f7",
   "metadata": {},
   "source": [
    "## 3.5 출력층 설계하기"
   ]
  },
  {
   "cell_type": "markdown",
   "id": "7bcc3a6a",
   "metadata": {},
   "source": [
    "- <code>분류(classification)</code>: 데이터가 어느 클래스(class)에 속하느냐는 문제  \n",
    "  \\- 시그모이드(sigmoid) 함수: 이진 클래스 분류  \n",
    "  \\- 소프트맥스(softmax) 함수: 다중 클래스 분류  \n",
    "- <code>회귀(regression)</code>: 입력 데이터에서 (연속적인) 수치를 예측하는 문제  \n",
    "  \\- 항등(identity) 함수: 입력 = 출력 (입력을 그대로 출력)"
   ]
  },
  {
   "cell_type": "markdown",
   "id": "051c858c",
   "metadata": {},
   "source": [
    "### 3.5.1 항등 함수와 소프트맥스 함수 구현하기"
   ]
  },
  {
   "cell_type": "markdown",
   "id": "442bd0c3",
   "metadata": {},
   "source": [
    "<code>소프트맥스(Softmax)</code> 함수 구현"
   ]
  },
  {
   "cell_type": "markdown",
   "id": "e8d74684",
   "metadata": {},
   "source": [
    "$$ y_k = \\frac{\\exp(a_k)}{\\sum_{i=1}^{n} \\exp(a_i)} $$"
   ]
  },
  {
   "cell_type": "code",
   "execution_count": 4,
   "id": "4f6ba7a8",
   "metadata": {},
   "outputs": [],
   "source": [
    "def softmax(a):\n",
    "    exp_a = np.exp(a)\n",
    "    sum_exp_a = np.sum(exp_a)\n",
    "    y = exp_a / sum_exp_a\n",
    "    \n",
    "    return y"
   ]
  },
  {
   "cell_type": "markdown",
   "id": "1192922c",
   "metadata": {},
   "source": [
    "### 3.5.2 소프트맥스 함수 구현 시 주의점"
   ]
  },
  {
   "cell_type": "markdown",
   "id": "8c267c41",
   "metadata": {},
   "source": [
    "#### 오버플로 문제\n",
    "소프트맥스 함수는 지수 함수를 사용하는데, 아주 큰 값을 출력하기 쉬움"
   ]
  },
  {
   "cell_type": "code",
   "execution_count": 5,
   "id": "a48cae14",
   "metadata": {},
   "outputs": [
    {
     "name": "stdout",
     "output_type": "stream",
     "text": [
      "x = 0, exp(x) = 1.0\n",
      "x = 50, exp(x) = 5.184705528587072e+21\n",
      "x = 100, exp(x) = 2.6881171418161356e+43\n",
      "x = 150, exp(x) = 1.3937095806663797e+65\n",
      "x = 200, exp(x) = 7.225973768125749e+86\n",
      "x = 250, exp(x) = 3.7464546145026734e+108\n",
      "x = 300, exp(x) = 1.9424263952412558e+130\n",
      "x = 350, exp(x) = 1.0070908870280797e+152\n",
      "x = 400, exp(x) = 5.221469689764144e+173\n",
      "x = 450, exp(x) = 2.7071782767869983e+195\n",
      "x = 500, exp(x) = 1.4035922178528375e+217\n",
      "x = 550, exp(x) = 7.277212331783397e+238\n",
      "x = 600, exp(x) = 3.7730203009299397e+260\n",
      "x = 650, exp(x) = 1.956199921370272e+282\n",
      "x = 700, exp(x) = 1.0142320547350045e+304\n",
      "x = 750, exp(x) = inf\n",
      "x = 800, exp(x) = inf\n",
      "x = 850, exp(x) = inf\n",
      "x = 900, exp(x) = inf\n",
      "x = 950, exp(x) = inf\n",
      "x = 1000, exp(x) = inf\n"
     ]
    },
    {
     "name": "stderr",
     "output_type": "stream",
     "text": [
      "C:\\Users\\user\\AppData\\Local\\Temp\\ipykernel_22776\\2287531336.py:2: RuntimeWarning: overflow encountered in exp\n",
      "  print(f'x = {x}, exp(x) = {np.exp(x)}')\n"
     ]
    }
   ],
   "source": [
    "for x in range(0, 1001, 50):\n",
    "    print(f'x = {x}, exp(x) = {np.exp(x)}')"
   ]
  },
  {
   "cell_type": "markdown",
   "id": "b2589610",
   "metadata": {},
   "source": [
    "무한대(inf)와 같은 큰 값끼리 나눗셈을 하면 결과 수치가 불안정해짐"
   ]
  },
  {
   "cell_type": "code",
   "execution_count": 6,
   "id": "0e3e73ff",
   "metadata": {},
   "outputs": [
    {
     "name": "stderr",
     "output_type": "stream",
     "text": [
      "C:\\Users\\user\\AppData\\Local\\Temp\\ipykernel_22776\\832863605.py:2: RuntimeWarning: overflow encountered in exp\n",
      "  np.exp(a) / np.sum(np.exp(a))\n",
      "C:\\Users\\user\\AppData\\Local\\Temp\\ipykernel_22776\\832863605.py:2: RuntimeWarning: invalid value encountered in divide\n",
      "  np.exp(a) / np.sum(np.exp(a))\n"
     ]
    },
    {
     "data": {
      "text/plain": [
       "array([nan, nan, nan])"
      ]
     },
     "execution_count": 6,
     "metadata": {},
     "output_type": "execute_result"
    }
   ],
   "source": [
    "a = np.array([1010, 1000, 990])\n",
    "np.exp(a) / np.sum(np.exp(a))"
   ]
  },
  {
   "cell_type": "markdown",
   "id": "5aae1b95",
   "metadata": {},
   "source": [
    "아무런 조치 없이 그냥 계산하면 nan이 출력됨"
   ]
  },
  {
   "cell_type": "code",
   "execution_count": 7,
   "id": "b31f4b8f",
   "metadata": {},
   "outputs": [
    {
     "data": {
      "text/plain": [
       "array([  0, -10, -20])"
      ]
     },
     "execution_count": 7,
     "metadata": {},
     "output_type": "execute_result"
    }
   ],
   "source": [
    "c = np.max(a)\n",
    "a - c"
   ]
  },
  {
   "cell_type": "code",
   "execution_count": 8,
   "id": "715d07f3",
   "metadata": {},
   "outputs": [
    {
     "data": {
      "text/plain": [
       "array([9.99954600e-01, 4.53978686e-05, 2.06106005e-09])"
      ]
     },
     "execution_count": 8,
     "metadata": {},
     "output_type": "execute_result"
    }
   ],
   "source": [
    "result = np.exp(a-c) / np.sum(np.exp(a-c))\n",
    "result"
   ]
  },
  {
   "cell_type": "markdown",
   "id": "7cbf9f7b",
   "metadata": {},
   "source": [
    "입력 신호 중 최댓값을 빼주면 올바르게 계산 가능"
   ]
  },
  {
   "cell_type": "code",
   "execution_count": 9,
   "id": "7572d7df",
   "metadata": {},
   "outputs": [],
   "source": [
    "def softmax(a):\n",
    "    c = np.max(a)\n",
    "    exp_a = np.exp(a - c) # 오버플로 대책\n",
    "    sum_exp_a = np.sum(exp_a)\n",
    "    y = exp_a / sum_exp_a\n",
    "    \n",
    "    return y"
   ]
  },
  {
   "cell_type": "markdown",
   "id": "a6ae0a2a",
   "metadata": {},
   "source": [
    "### 3.5.3 소프트맥스 함수의 특징"
   ]
  },
  {
   "cell_type": "code",
   "execution_count": 10,
   "id": "d552367f",
   "metadata": {},
   "outputs": [
    {
     "name": "stdout",
     "output_type": "stream",
     "text": [
      "[0.01821127 0.24519181 0.73659691]\n"
     ]
    }
   ],
   "source": [
    "a = np.array([0.3, 2.9, 4.0])\n",
    "y = softmax(a)\n",
    "print(y)"
   ]
  },
  {
   "cell_type": "code",
   "execution_count": 11,
   "id": "73c1136c",
   "metadata": {},
   "outputs": [
    {
     "data": {
      "text/plain": [
       "1.0"
      ]
     },
     "execution_count": 11,
     "metadata": {},
     "output_type": "execute_result"
    }
   ],
   "source": [
    "np.sum(y)"
   ]
  },
  {
   "cell_type": "markdown",
   "id": "c0a207cf",
   "metadata": {},
   "source": [
    "소프트맥스 함수 출력의 총합은 1 → <code>확률</code>로 해석 가능  \n",
    "위에서는 y[0]의 확률은 1.8%, y[1]의 확률은 24.5%, y[2]의 확률은 73.7%라고 해석 가능"
   ]
  },
  {
   "cell_type": "markdown",
   "id": "ca5fc038",
   "metadata": {},
   "source": [
    "기계학습의 문제 풀이는 <code>학습(training)</code>과 <code>추론(inference)</code>의 두 단계를 거쳐 이뤄짐  \n",
    "학습 단계에서 모델을 학습하고, 추론 단계에서 앞서 학습한 모델로 미지의 데이터에 대해서 추론(분류)을 수행함  \n",
    "학습 시, 출력층에서 소프트맥스 함수를 사용하지만  \n",
    "추론 시, (현업에서는) 지수 함수 계산에 드는 자원 낭비를 줄이고자 출력층의 소프트맥스 함수는 생략하는 것이 일반적임"
   ]
  },
  {
   "cell_type": "markdown",
   "id": "df6d9ff3",
   "metadata": {},
   "source": [
    "### 3.5.4 출력층의 뉴런 수 정하기"
   ]
  },
  {
   "cell_type": "markdown",
   "id": "3bf37639",
   "metadata": {},
   "source": [
    "출력층의 뉴런 수는 풀려는 문제에 맞게 적절히 정해야함  \n",
    "분류에서는 분류하고 싶은 클래스 수로 정하는 것이 일반적임  \n",
    "ex. 이미지를 숫자 0부터 9 중 하나로 분류하는 문제라면 출력층의 뉴런을 10개로 설정"
   ]
  },
  {
   "cell_type": "markdown",
   "id": "cb8d0c62",
   "metadata": {},
   "source": [
    "## 3.6 손글씨 숫자 인식"
   ]
  },
  {
   "cell_type": "markdown",
   "id": "65320f25",
   "metadata": {},
   "source": [
    "### 3.6.1 MNIST 데이터셋"
   ]
  },
  {
   "cell_type": "code",
   "execution_count": 12,
   "id": "a692263a",
   "metadata": {},
   "outputs": [],
   "source": [
    "import sys, os\n",
    "sys.path.append(os.pardir)\n",
    "from dataset.mnist import load_mnist"
   ]
  },
  {
   "cell_type": "code",
   "execution_count": 13,
   "id": "e34bfae4",
   "metadata": {},
   "outputs": [],
   "source": [
    "(x_train, t_train), (x_test, t_test) = load_mnist(flatten=True, normalize=False)"
   ]
  },
  {
   "cell_type": "code",
   "execution_count": 14,
   "id": "79e1eb5b",
   "metadata": {},
   "outputs": [
    {
     "name": "stdout",
     "output_type": "stream",
     "text": [
      "(60000, 784)\n",
      "(60000,)\n",
      "(10000, 784)\n",
      "(10000,)\n"
     ]
    }
   ],
   "source": [
    "print(x_train.shape)\n",
    "print(t_train.shape)\n",
    "print(x_test.shape)\n",
    "print(t_test.shape)"
   ]
  },
  {
   "cell_type": "code",
   "execution_count": 15,
   "id": "6a0a9aea",
   "metadata": {},
   "outputs": [],
   "source": [
    "import sys, os\n",
    "sys.path.append(os.pardir)\n",
    "import numpy as np\n",
    "from dataset.mnist import load_mnist\n",
    "from PIL import Image"
   ]
  },
  {
   "cell_type": "code",
   "execution_count": 16,
   "id": "b2b2aa68",
   "metadata": {},
   "outputs": [],
   "source": [
    "def img_show(img):\n",
    "    pil_img = Image.fromarray(np.uint8(img))\n",
    "    pil_img.show()"
   ]
  },
  {
   "cell_type": "code",
   "execution_count": 17,
   "id": "af396de1",
   "metadata": {},
   "outputs": [],
   "source": [
    "(x_train, t_train), (x_test, t_test) = load_mnist(flatten=True, normalize=False)"
   ]
  },
  {
   "cell_type": "code",
   "execution_count": 18,
   "id": "7ee154fd",
   "metadata": {},
   "outputs": [
    {
     "name": "stdout",
     "output_type": "stream",
     "text": [
      "5\n"
     ]
    }
   ],
   "source": [
    "img = x_train[0]\n",
    "label = t_train[0]\n",
    "print(label)"
   ]
  },
  {
   "cell_type": "code",
   "execution_count": 19,
   "id": "a571e3a5",
   "metadata": {},
   "outputs": [
    {
     "name": "stdout",
     "output_type": "stream",
     "text": [
      "(784,)\n",
      "(28, 28)\n"
     ]
    }
   ],
   "source": [
    "print(img.shape)\n",
    "img = img.reshape(28, 28)\n",
    "print(img.shape)"
   ]
  },
  {
   "cell_type": "code",
   "execution_count": 20,
   "id": "b1d2f333",
   "metadata": {},
   "outputs": [],
   "source": [
    "img_show(img)"
   ]
  },
  {
   "cell_type": "markdown",
   "id": "97453fda",
   "metadata": {},
   "source": [
    "### 3.6.2 신경망의 추론 처리"
   ]
  },
  {
   "cell_type": "code",
   "execution_count": 21,
   "id": "50f9a682",
   "metadata": {},
   "outputs": [],
   "source": [
    "def get_data():\n",
    "    (x_train, t_train), (x_test, t_test) = load_mnist(normalize=True, flatten=True, one_hot_label=False)\n",
    "    return x_test, t_test"
   ]
  },
  {
   "cell_type": "code",
   "execution_count": 22,
   "id": "444dba05",
   "metadata": {},
   "outputs": [],
   "source": [
    "import pickle\n",
    "def init_network():\n",
    "    with open(\"dataset/sample_weight.pkl\", 'rb') as f:\n",
    "        network = pickle.load(f)\n",
    "\n",
    "    return network"
   ]
  },
  {
   "cell_type": "code",
   "execution_count": 23,
   "id": "c1abd61b",
   "metadata": {},
   "outputs": [],
   "source": [
    "def predict(network, x):\n",
    "    W1, W2, W3 = network['W1'], network['W2'], network['W3']\n",
    "    b1, b2, b3 = network['b1'], network['b2'], network['b3']\n",
    "\n",
    "    a1 = np.dot(x, W1) + b1\n",
    "    z1 = sigmoid(a1)\n",
    "    a2 = np.dot(z1, W2) + b2\n",
    "    z2 = sigmoid(a2)\n",
    "    a3 = np.dot(z2, W3) + b3\n",
    "    y = softmax(a3)\n",
    "\n",
    "    return y"
   ]
  },
  {
   "cell_type": "code",
   "execution_count": 24,
   "id": "591e4bea",
   "metadata": {},
   "outputs": [
    {
     "name": "stdout",
     "output_type": "stream",
     "text": [
      "Accuracy:0.9352\n"
     ]
    }
   ],
   "source": [
    "x, t = get_data()\n",
    "network = init_network()\n",
    "\n",
    "accuracy_cnt = 0\n",
    "for i in range(len(x)):\n",
    "    y = predict(network, x[i])\n",
    "    p = np.argmax(y)\n",
    "    if p == t[i]:\n",
    "        accuracy_cnt += 1\n",
    "\n",
    "print(\"Accuracy:\" + str(float(accuracy_cnt) / len(x)))"
   ]
  },
  {
   "cell_type": "markdown",
   "id": "e233519e",
   "metadata": {},
   "source": [
    "### 3.6.3 배치 처리"
   ]
  },
  {
   "cell_type": "code",
   "execution_count": 25,
   "id": "591e4bea",
   "metadata": {},
   "outputs": [
    {
     "name": "stdout",
     "output_type": "stream",
     "text": [
      "Accuracy:0.9352\n"
     ]
    }
   ],
   "source": [
    "x, t = get_data()\n",
    "network = init_network()\n",
    "\n",
    "batch_size = 100\n",
    "accuracy_cnt = 0\n",
    "\n",
    "for i in range(0, len(x), batch_size):\n",
    "    x_batch = x[i:i+batch_size]\n",
    "    y_batch = predict(network, x_batch)\n",
    "    p = np.argmax(y_batch, axis=1)\n",
    "    accuracy_cnt += np.sum(p == t[i:i+batch_size])\n",
    "\n",
    "print(\"Accuracy:\" + str(float(accuracy_cnt) / len(x)))"
   ]
  }
 ],
 "metadata": {
  "kernelspec": {
   "display_name": "scratch",
   "language": "python",
   "name": "scratch"
  },
  "language_info": {
   "codemirror_mode": {
    "name": "ipython",
    "version": 3
   },
   "file_extension": ".py",
   "mimetype": "text/x-python",
   "name": "python",
   "nbconvert_exporter": "python",
   "pygments_lexer": "ipython3",
   "version": "3.8.13"
  }
 },
 "nbformat": 4,
 "nbformat_minor": 5
}
